{
 "cells": [
  {
   "cell_type": "markdown",
   "metadata": {},
   "source": [
    "## Referencias"
   ]
  },
  {
   "cell_type": "markdown",
   "metadata": {},
   "source": [
    "* Balsys, r (2019). Understanding Logistic Regression (2019). Disponible en: https://pylessons.com/Logistic-Regression-part1/\n",
    "* Descenso por gradiente (Gradient descent). Disponible en: https://turing.iimas.unam.mx/~ivanvladimir/posts/gradient_descent/\n",
    "* Feature Scaling for Machine Learning: Understanding the Difference Between Normalization vs. Standardization. Disponible en: https://www.analyticsvidhya.com/blog/2020/04/feature-scaling-machine-learning-normalization-standardization/\n",
    "* Rodríguez, D (2018). Implementación del método descenso del gradiente en Python. Disponible en: https://www.analyticslane.com/2018/12/21/implementacion-del-metodo-descenso-del-gradiente-en-python/#:~:text=El%20m%C3%A9todo%20del%20descenso%20del,en%20el%20conjunto%20de%20datos.\n",
    "* Gradient descent. Disponible en: https://ml-cheatsheet.readthedocs.io/en/latest/gradient_descent.html\n",
    "* Machine Learning Logistic Regression. Disponible en: https://towardsdatascience.com/andrew-ngs-machine-learning-course-in-python-logistic-regression-c0ae25509feb"
   ]
  }
 ],
 "metadata": {
  "kernelspec": {
   "display_name": "DG_env",
   "language": "python",
   "name": "dg_env"
  },
  "language_info": {
   "codemirror_mode": {
    "name": "ipython",
    "version": 3
   },
   "file_extension": ".py",
   "mimetype": "text/x-python",
   "name": "python",
   "nbconvert_exporter": "python",
   "pygments_lexer": "ipython3",
   "version": "3.8.5"
  }
 },
 "nbformat": 4,
 "nbformat_minor": 4
}
