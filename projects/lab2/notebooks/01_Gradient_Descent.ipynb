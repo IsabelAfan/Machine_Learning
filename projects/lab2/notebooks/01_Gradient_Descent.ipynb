{
 "cells": [
  {
   "cell_type": "markdown",
   "metadata": {},
   "source": [
    "# Práctica 2.  Regresión logística y descenso de gradiente"
   ]
  },
  {
   "cell_type": "markdown",
   "metadata": {},
   "source": [
    "####  Isabel Afán de Ribera"
   ]
  },
  {
   "cell_type": "markdown",
   "metadata": {},
   "source": [
    "#### 13/11/2020"
   ]
  },
  {
   "cell_type": "markdown",
   "metadata": {},
   "source": [
    "## Objetivo"
   ]
  },
  {
   "cell_type": "markdown",
   "metadata": {},
   "source": [
    "El objetivo perseguido en esta práctica es programar el descenso de gradiente con Python explicando paso a paso el proceso seguido para ello."
   ]
  },
  {
   "cell_type": "markdown",
   "metadata": {},
   "source": [
    "## Introducción"
   ]
  },
  {
   "cell_type": "markdown",
   "metadata": {},
   "source": [
    "El descenso de gradiente es un algoritmo de optimización empleado para encontrar el mínimo de una función. En el ámbito del Machine Learning, en concreto, se utiliza para encontrar los valores de los parámetros (pesos) de una función coste que minimicen el coste. Para ello se irá minimizando la función coste moviéndose iterativamente en la dirección del descenso más pronunciado según lo definido por la pendiente negativa del gradiente."
   ]
  },
  {
   "attachments": {
    "gradient_descent.png": {
     "image/png": "[encoded data removed]"
    }
   },
   "cell_type": "markdown",
   "metadata": {},
   "source": [
    "![gradient_descent.png](attachment:gradient_descent.png)"
   ]
  },
  {
   "cell_type": "markdown",
   "metadata": {},
   "source": [
    "## Descenso de gradiente"
   ]
  },
  {
   "cell_type": "markdown",
   "metadata": {},
   "source": [
    "### Importación de librerias necesarias"
   ]
  },
  {
   "cell_type": "code",
   "execution_count": 1,
   "metadata": {},
   "outputs": [],
   "source": [
    "import numpy as np\n",
    "import pandas as pd\n",
    "import matplotlib.pyplot as plt \n",
    "%matplotlib inline"
   ]
  },
  {
   "cell_type": "markdown",
   "metadata": {},
   "source": [
    "### Carga de datos"
   ]
  },
  {
   "cell_type": "markdown",
   "metadata": {},
   "source": [
    "Para programar el descenso de gradiente vamos a utilizar una base de datos relativa a los datos históricos de las puntuaciones de dos exámenes de acceso a la universidad de 100 aspirantes de años anteriores que fueron o no admitidos. El objetivo con estos datos es conocer la posibilidad de los nuevos aspirantes de ser admitidos en función de la puntuación obtenida en los exámenes."
   ]
  },
  {
   "cell_type": "code",
   "execution_count": 2,
   "metadata": {},
   "outputs": [
    {
     "data": {
      "text/html": [
       "<div>\n",
       "<style scoped>\n",
       "    .dataframe tbody tr th:only-of-type {\n",
       "        vertical-align: middle;\n",
       "    }\n",
       "\n",
       "    .dataframe tbody tr th {\n",
       "        vertical-align: top;\n",
       "    }\n",
       "\n",
       "    .dataframe thead th {\n",
       "        text-align: right;\n",
       "    }\n",
       "</style>\n",
       "<table border=\"1\" class=\"dataframe\">\n",
       "  <thead>\n",
       "    <tr style=\"text-align: right;\">\n",
       "      <th></th>\n",
       "      <th>score-1</th>\n",
       "      <th>score-2</th>\n",
       "      <th>label</th>\n",
       "    </tr>\n",
       "  </thead>\n",
       "  <tbody>\n",
       "    <tr>\n",
       "      <th>0</th>\n",
       "      <td>34.623660</td>\n",
       "      <td>78.024693</td>\n",
       "      <td>0</td>\n",
       "    </tr>\n",
       "    <tr>\n",
       "      <th>1</th>\n",
       "      <td>30.286711</td>\n",
       "      <td>43.894998</td>\n",
       "      <td>0</td>\n",
       "    </tr>\n",
       "    <tr>\n",
       "      <th>2</th>\n",
       "      <td>35.847409</td>\n",
       "      <td>72.902198</td>\n",
       "      <td>0</td>\n",
       "    </tr>\n",
       "    <tr>\n",
       "      <th>3</th>\n",
       "      <td>60.182599</td>\n",
       "      <td>86.308552</td>\n",
       "      <td>1</td>\n",
       "    </tr>\n",
       "    <tr>\n",
       "      <th>4</th>\n",
       "      <td>79.032736</td>\n",
       "      <td>75.344376</td>\n",
       "      <td>1</td>\n",
       "    </tr>\n",
       "  </tbody>\n",
       "</table>\n",
       "</div>"
      ],
      "text/plain": [
       "     score-1    score-2  label\n",
       "0  34.623660  78.024693      0\n",
       "1  30.286711  43.894998      0\n",
       "2  35.847409  72.902198      0\n",
       "3  60.182599  86.308552      1\n",
       "4  79.032736  75.344376      1"
      ]
     },
     "execution_count": 2,
     "metadata": {},
     "output_type": "execute_result"
    }
   ],
   "source": [
    "# cargamos los datos\n",
    "data = pd.read_csv('./data/4_1_data.csv')\n",
    "data.head()"
   ]
  },
  {
   "cell_type": "code",
   "execution_count": 3,
   "metadata": {},
   "outputs": [
    {
     "data": {
      "text/html": [
       "<div>\n",
       "<style scoped>\n",
       "    .dataframe tbody tr th:only-of-type {\n",
       "        vertical-align: middle;\n",
       "    }\n",
       "\n",
       "    .dataframe tbody tr th {\n",
       "        vertical-align: top;\n",
       "    }\n",
       "\n",
       "    .dataframe thead th {\n",
       "        text-align: right;\n",
       "    }\n",
       "</style>\n",
       "<table border=\"1\" class=\"dataframe\">\n",
       "  <thead>\n",
       "    <tr style=\"text-align: right;\">\n",
       "      <th></th>\n",
       "      <th>score1</th>\n",
       "      <th>score2</th>\n",
       "      <th>label</th>\n",
       "    </tr>\n",
       "  </thead>\n",
       "  <tbody>\n",
       "    <tr>\n",
       "      <th>0</th>\n",
       "      <td>34.623660</td>\n",
       "      <td>78.024693</td>\n",
       "      <td>0</td>\n",
       "    </tr>\n",
       "    <tr>\n",
       "      <th>1</th>\n",
       "      <td>30.286711</td>\n",
       "      <td>43.894998</td>\n",
       "      <td>0</td>\n",
       "    </tr>\n",
       "    <tr>\n",
       "      <th>2</th>\n",
       "      <td>35.847409</td>\n",
       "      <td>72.902198</td>\n",
       "      <td>0</td>\n",
       "    </tr>\n",
       "    <tr>\n",
       "      <th>3</th>\n",
       "      <td>60.182599</td>\n",
       "      <td>86.308552</td>\n",
       "      <td>1</td>\n",
       "    </tr>\n",
       "    <tr>\n",
       "      <th>4</th>\n",
       "      <td>79.032736</td>\n",
       "      <td>75.344376</td>\n",
       "      <td>1</td>\n",
       "    </tr>\n",
       "  </tbody>\n",
       "</table>\n",
       "</div>"
      ],
      "text/plain": [
       "      score1     score2  label\n",
       "0  34.623660  78.024693      0\n",
       "1  30.286711  43.894998      0\n",
       "2  35.847409  72.902198      0\n",
       "3  60.182599  86.308552      1\n",
       "4  79.032736  75.344376      1"
      ]
     },
     "execution_count": 3,
     "metadata": {},
     "output_type": "execute_result"
    }
   ],
   "source": [
    "# renombramos las variables\n",
    "data = data.rename(columns={\"score-1\" : \"score1\", \"score-2\" : \"score2\"})\n",
    "data.head()"
   ]
  },
  {
   "cell_type": "code",
   "execution_count": 4,
   "metadata": {},
   "outputs": [],
   "source": [
    "# creamos dos matrices X e y a las que asignamos valores para posteriormente poder representar\n",
    "X = data.iloc[:,:-1].values\n",
    "# la X contiene un array con las puntuaciones de los 2 examenes de cada aspirante\n",
    "y = data.iloc[:,-1].values\n",
    "# la y (variable dependiente categorica) contiene un array con los valores de la columna label, la cual nos indica si el \n",
    "# aspirante fue o no admitido (1-si obtuvo la admisión, 0-en caso contrario)"
   ]
  },
  {
   "cell_type": "markdown",
   "metadata": {},
   "source": [
    "### Visualizando los datos"
   ]
  },
  {
   "cell_type": "code",
   "execution_count": 5,
   "metadata": {},
   "outputs": [
    {
     "data": {
      "text/plain": [
       "<matplotlib.legend.Legend at 0x20516386ca0>"
      ]
     },
     "execution_count": 5,
     "metadata": {},
     "output_type": "execute_result"
    },
    {
     "data": {
      "image/png": "[encoded data removed]",
      "text/plain": [
       "<Figure size 864x576 with 1 Axes>"
      ]
     },
     "metadata": {
      "needs_background": "light"
     },
     "output_type": "display_data"
    }
   ],
   "source": [
    "# mediante un grafico de dispersion visualizamos los dos grupos de clasificacion (ser o no ser admitido)\n",
    "# de esta manera realizamos una clasificacion binaria, clasificando los elementos en dos grupos prediciendo \n",
    "# a cual pertenece cada uno\n",
    "pos , neg = (y==1).reshape(100,1) , (y==0).reshape(100,1)          # las matrices han de tener la misma dimension\n",
    "plt.figure(figsize = (12,8))\n",
    "plt.scatter(X[pos[:,0],0], X[pos[:,0],1], c = \"red\", marker = \"+\") # puntuaciones positivas, llevan a ser admitido\n",
    "plt.scatter(X[neg[:,0],0], X[neg[:,0],1], marker = \"o\", s = 10)    # puntuaciones negativas, llevan a no ser admitido\n",
    "plt.xlabel(\"Exam 1 score\")\n",
    "plt.ylabel(\"Exam 2 score\")\n",
    "plt.legend([\"Admitted\",\"Not admitted\"],loc=0)"
   ]
  },
  {
   "cell_type": "markdown",
   "metadata": {},
   "source": [
    "### Regresión logística"
   ]
  },
  {
   "cell_type": "markdown",
   "metadata": {},
   "source": [
    "En primer lugar, es importante comentar que la regresión logísitca es uno de los algoritmos de aprendizaje automático más simples y comúnmente utilizados para resolver problemas de clasificación binaria pues esta describe y estima la relación entre una variable binaria dependiente y las variables independientes. Para proceder con este método lo primero que debemos hacer es aprender a implementar la función sigmoidea.\n",
    "\n",
    "La función sigmoidea o logística definida como (1/(1 + e^-x)) es una función que da una curva en forma de 'S' que puede tomar cualquier número de valor real y asignarlo a un valor entre 0 y 1. Si la curva va a infinito positivo, y predicho se convertirá en 1, y si la curva va a infinito negativo, y predicho se convertirá en 0. Si la salida de la función sigmoidea es mayor que 0.5, podemos clasificar el resultado como 1 o sí, y si es menor que 0.5, podemos clasificarlo como 0 o no."
   ]
  },
  {
   "attachments": {
    "sigmoid.png": {
     "image/png": "[encoded data removed]"
    }
   },
   "cell_type": "markdown",
   "metadata": {},
   "source": [
    "![sigmoid.png](attachment:sigmoid.png)"
   ]
  },
  {
   "cell_type": "code",
   "execution_count": 6,
   "metadata": {},
   "outputs": [],
   "source": [
    "# definimos la función\n",
    "def sigmoid(z):\n",
    "    \"\"\"\n",
    "    return the sigmoid of z\n",
    "    \"\"\"\n",
    "    return 1 / (1 + np.exp(-z)) "
   ]
  },
  {
   "cell_type": "code",
   "execution_count": 7,
   "metadata": {},
   "outputs": [
    {
     "data": {
      "text/plain": [
       "0.5"
      ]
     },
     "execution_count": 7,
     "metadata": {},
     "output_type": "execute_result"
    }
   ],
   "source": [
    "# comprobamos con un valor cualquiera la función sigmoidea\n",
    "sigmoid(0)"
   ]
  },
  {
   "cell_type": "markdown",
   "metadata": {},
   "source": [
    "### Función de coste"
   ]
  },
  {
   "cell_type": "markdown",
   "metadata": {},
   "source": [
    "Mediante el método de descenso de gradiente vamos a minimizar la función que mide el error de predicción del modelo en el conjunto de datos, dicha función de error se conoce como función de coste. Gracias a esta función podemos saber cómo de bueno es nuestro modelo haciendo predicciones para un conjunto dado de parámetros. La función de coste tiene como objetivo encontrar el peso de los valores que minimizan el coste, y esto se consigue a través de derivadas parciales."
   ]
  },
  {
   "cell_type": "markdown",
   "metadata": {},
   "source": [
    "La función costo siempre toma tres parámetros: theta, X e y donde theta es la posición incial, X el vector de filas e y un vector categórico. Y su objetivo es encontrar la w y la b que minimizan el coste a través de derivadas parciales."
   ]
  },
  {
   "cell_type": "code",
   "execution_count": 8,
   "metadata": {},
   "outputs": [],
   "source": [
    "# se define la funcion costo junto con sus parametros\n",
    "def costFunction(theta, X, y):    \n",
    "    \"\"\"\n",
    "    Takes in numpy array theta, X and y and return the logistic regression cost function and gradient\n",
    "    \"\"\"\n",
    "    \n",
    "    # longitud del vector categorico\n",
    "    m = len(y)  \n",
    "    \n",
    "    # defino predicciones con la funcion sigmoidea y el producto escalar de las matrices X y theta\n",
    "    predictions = sigmoid(np.dot(X,theta))  \n",
    "    # defino error como resultado del logaritmo de la prediccion\n",
    "    error = (-y * np.log(predictions)) - ((1-y)*np.log(1-predictions)) \n",
    "    cost = 1/m * sum(error)\n",
    "    \n",
    "    # donde X transpose es la matriz transpuesta del vector de filas \n",
    "    grad = 1/m * np.dot(X.transpose(),(predictions - y))  \n",
    "    \n",
    "    return cost[0] , grad"
   ]
  },
  {
   "cell_type": "markdown",
   "metadata": {},
   "source": [
    "### Normalización de las variables"
   ]
  },
  {
   "cell_type": "markdown",
   "metadata": {},
   "source": [
    "Algunos algoritmos de aprendizaje automático, como en este caso la regresión logística, que utilizan el descenso de gradientes como técnica de optimización requieren que los datos se escalen. La variable X al estar dentro de la fórmula del descenso de gradiente afectará al tamaño del paso del descenso. Para garantizar que este se mueva suavemente hacia los mínimos y que los pasos se actualicen al mismo ritmo para todas las variables, es necesario escalar los datos antes de introducirlos en el modelo.\n"
   ]
  },
  {
   "cell_type": "markdown",
   "metadata": {},
   "source": [
    "Vamos a realizar el escalado mediante la normalización de la media, esta distribución tomará valores entre -1 y 1 con una media igual a 0."
   ]
  },
  {
   "cell_type": "code",
   "execution_count": 9,
   "metadata": {},
   "outputs": [],
   "source": [
    "def featureNormalization(X):  \n",
    "    \"\"\"\n",
    "    Take in numpy array of X values and return normalize X values,\n",
    "    the mean and standard deviation of each feature\n",
    "    \"\"\"\n",
    "    # media de la matrix X\n",
    "    mean = np.mean(X,axis=0) \n",
    "    # desviacion estandar de la matriz X\n",
    "    std = np.std(X,axis=0)    \n",
    "    \n",
    "    # matriz X normalizada \n",
    "    X_norm = (X - mean) / std  \n",
    "    \n",
    "    return X_norm , mean , std"
   ]
  },
  {
   "cell_type": "code",
   "execution_count": 10,
   "metadata": {},
   "outputs": [
    {
     "name": "stdout",
     "output_type": "stream",
     "text": [
      "Cost of initial theta is 0.693147180559946\n",
      "Gradient at initial theta (zeros): [[-0.1       ]\n",
      " [-0.28122914]\n",
      " [-0.25098615]]\n"
     ]
    }
   ],
   "source": [
    "m , n = X.shape[0], X.shape[1]  \n",
    "X, X_mean, X_std = featureNormalization(X)\n",
    "X= np.append(np.ones((m,1)),X,axis=1)\n",
    "y=y.reshape(m,1)\n",
    "# configuramos el initial theta o poscion inicial\n",
    "initial_theta = np.zeros((n+1,1))    \n",
    " # calculamos el coste de esa posicion inicial y el gradiente en esa poscion inicial\n",
    "cost, grad= costFunction(initial_theta,X,y) \n",
    "# resultado del coste\n",
    "print(\"Cost of initial theta is\",cost)  \n",
    " # resultado del gradiente \n",
    "print(\"Gradient at initial theta (zeros):\",grad)   "
   ]
  },
  {
   "cell_type": "markdown",
   "metadata": {},
   "source": [
    "### Función descenso de gradiente"
   ]
  },
  {
   "cell_type": "markdown",
   "metadata": {},
   "source": [
    "El descenso de gradiente es un algoritmo que permite localizar un mínimo en una función de forma iterativa, en Machine Learning dicha función a minimizar es la función coste (definida anteriormente) que reduce la diferencia entre el modelo que buscamos y la salida que tiene que aprender. Las iteraciones se producen entre un valor actual y una posición, y cada nueva posición que obtenemos al dar pasos poco a poco se calcula con la posición actual menos un “paso” hacia la dirección de mayor descenso en esa posición. "
   ]
  },
  {
   "cell_type": "markdown",
   "metadata": {},
   "source": [
    "La función del descenso de gradiente tiene las entradas X (vector de filas), y (vector categórico), theta (posción), learning rate (tamaño de los pasos), número de iteraciones (número de pasos)."
   ]
  },
  {
   "cell_type": "code",
   "execution_count": 11,
   "metadata": {},
   "outputs": [],
   "source": [
    "# definimos la funcion de gradiente para que minimize la funcion coste mediante derivada\n",
    "def gradientDescent(X, y, theta, learning_rate, num_iters):\n",
    "    \"\"\"\n",
    "    Take in numpy array X, y and theta and update theta by taking num_iters gradient steps\n",
    "    with learning rate of alpha\n",
    "    \n",
    "    return theta and the list of the cost of theta during each iteration\n",
    "    \"\"\"\n",
    "    \n",
    "    m=len(y)\n",
    "    J_history =[]\n",
    "    \n",
    "    # bucle que vaya calculando para cada iteracion el coste y el gradiente en cada posicion \n",
    "    for i in range(num_iters):\n",
    "        cost, grad = costFunction(theta,X,y)\n",
    "        theta = theta - (learning_rate * grad)\n",
    "        J_history.append(cost)\n",
    "    \n",
    "    return theta , J_history"
   ]
  },
  {
   "cell_type": "code",
   "execution_count": 12,
   "metadata": {},
   "outputs": [],
   "source": [
    "num_iters = 1500     # numero de iteraciones, hay que establecer un limite \n",
    "learning_rate = 0.01 # alpha, tamaño de los pasos"
   ]
  },
  {
   "cell_type": "code",
   "execution_count": 13,
   "metadata": {},
   "outputs": [],
   "source": [
    "theta , J_history = gradientDescent(X, y, initial_theta, learning_rate, num_iters)"
   ]
  },
  {
   "cell_type": "code",
   "execution_count": 14,
   "metadata": {},
   "outputs": [
    {
     "name": "stdout",
     "output_type": "stream",
     "text": [
      "Theta optimized by gradient descent: [[0.58119252]\n",
      " [1.56496775]\n",
      " [1.40767345]]\n",
      "The cost of the optimized theta: 0.2805116931825666\n"
     ]
    }
   ],
   "source": [
    "print(\"Theta optimized by gradient descent:\",theta)\n",
    "print(\"The cost of the optimized theta:\",J_history[-1])"
   ]
  },
  {
   "cell_type": "code",
   "execution_count": 15,
   "metadata": {
    "scrolled": true
   },
   "outputs": [
    {
     "data": {
      "text/plain": [
       "Text(0.5, 1.0, 'Cost function using Gradient Descent')"
      ]
     },
     "execution_count": 15,
     "metadata": {},
     "output_type": "execute_result"
    },
    {
     "data": {
      "image/png": "[encoded data removed]",
      "text/plain": [
       "<Figure size 864x576 with 1 Axes>"
      ]
     },
     "metadata": {
      "needs_background": "light"
     },
     "output_type": "display_data"
    }
   ],
   "source": [
    "plt.figure(figsize = (12,8))\n",
    "plt.plot(J_history)\n",
    "plt.xlabel(\"Iteration\")\n",
    "plt.ylabel(\"$J(\\Theta)$\")\n",
    "plt.title(\"Cost function using Gradient Descent\")"
   ]
  },
  {
   "cell_type": "markdown",
   "metadata": {},
   "source": [
    "Repetimos el cálculo del descenso de gradiente asignando un nuevo alpha o tamaño de los pasos pues con una tasa de aprendizaje del 0.01 vemos en la curva que conseguimos que el error se vaya minimizando pero puede ser que aumentando el tamaño de los pasos la curva sea más pronunciada y la función de costo se estabilice más. Vamos a probar con un learning rate de 0.2."
   ]
  },
  {
   "cell_type": "code",
   "execution_count": 16,
   "metadata": {},
   "outputs": [],
   "source": [
    "num_iters = 1500     # numero de iteraciones, hay que establecer un limite \n",
    "learning_rate = 0.2 # alpha, tamaño de los pasos"
   ]
  },
  {
   "cell_type": "code",
   "execution_count": 17,
   "metadata": {},
   "outputs": [],
   "source": [
    "theta , J_history = gradientDescent(X, y, initial_theta, learning_rate, num_iters)"
   ]
  },
  {
   "cell_type": "code",
   "execution_count": 18,
   "metadata": {},
   "outputs": [
    {
     "name": "stdout",
     "output_type": "stream",
     "text": [
      "Theta optimized by gradient descent: [[1.6076725 ]\n",
      " [3.75690491]\n",
      " [3.49692416]]\n",
      "The cost of the optimized theta: 0.20386496797315143\n"
     ]
    }
   ],
   "source": [
    "print(\"Theta optimized by gradient descent:\",theta)\n",
    "print(\"The cost of the optimized theta:\",J_history[-1])"
   ]
  },
  {
   "cell_type": "code",
   "execution_count": 19,
   "metadata": {},
   "outputs": [
    {
     "data": {
      "text/plain": [
       "Text(0.5, 1.0, 'Cost function using Gradient Descent')"
      ]
     },
     "execution_count": 19,
     "metadata": {},
     "output_type": "execute_result"
    },
    {
     "data": {
      "image/png": "[encoded data removed]",
      "text/plain": [
       "<Figure size 864x576 with 1 Axes>"
      ]
     },
     "metadata": {
      "needs_background": "light"
     },
     "output_type": "display_data"
    }
   ],
   "source": [
    "plt.figure(figsize = (12,8))\n",
    "plt.plot(J_history)\n",
    "plt.xlabel(\"Iteration\")\n",
    "plt.ylabel(\"$J(\\Theta)$\")\n",
    "plt.title(\"Cost function using Gradient Descent\")"
   ]
  },
  {
   "cell_type": "markdown",
   "metadata": {},
   "source": [
    "La curva va mejorando al aumentar el learning rate, caida más brusca y posterior estabilización de la función, el error esta bastante más próximo a cero. Por último, vamos a comprobar si con el alpha máximo de 1 (recordamos que alpha siempre esta entre 0 y 1)."
   ]
  },
  {
   "cell_type": "code",
   "execution_count": 20,
   "metadata": {},
   "outputs": [],
   "source": [
    "num_iters = 1500     # numero de iteraciones, hay que establecer un limite \n",
    "learning_rate = 1 # alpha, tamaño de los pasos"
   ]
  },
  {
   "cell_type": "code",
   "execution_count": 21,
   "metadata": {},
   "outputs": [],
   "source": [
    "theta , J_history = gradientDescent(X, y, initial_theta, learning_rate, num_iters)"
   ]
  },
  {
   "cell_type": "code",
   "execution_count": 22,
   "metadata": {},
   "outputs": [
    {
     "name": "stdout",
     "output_type": "stream",
     "text": [
      "Theta optimized by gradient descent: [[1.71835438]\n",
      " [3.99258451]\n",
      " [3.72493998]]\n",
      "The cost of the optimized theta: 0.20349770185912164\n"
     ]
    }
   ],
   "source": [
    "print(\"Theta optimized by gradient descent:\",theta)\n",
    "print(\"The cost of the optimized theta:\",J_history[-1])"
   ]
  },
  {
   "cell_type": "code",
   "execution_count": 23,
   "metadata": {},
   "outputs": [
    {
     "data": {
      "text/plain": [
       "Text(0.5, 1.0, 'Cost function using Gradient Descent')"
      ]
     },
     "execution_count": 23,
     "metadata": {},
     "output_type": "execute_result"
    },
    {
     "data": {
      "image/png": "[encoded data removed]",
      "text/plain": [
       "<Figure size 864x576 with 1 Axes>"
      ]
     },
     "metadata": {
      "needs_background": "light"
     },
     "output_type": "display_data"
    }
   ],
   "source": [
    "plt.figure(figsize = (12,8))\n",
    "plt.plot(J_history)\n",
    "plt.xlabel(\"Iteration\")\n",
    "plt.ylabel(\"$J(\\Theta)$\")\n",
    "plt.title(\"Cost function using Gradient Descent\")"
   ]
  },
  {
   "cell_type": "markdown",
   "metadata": {},
   "source": [
    "En la tasa de aprendizaje máxima, es decir, de 1 y unas iteraciones de 1500 la función de costo se estabiliza alrededor de las 200 iteraciones con una caída muy pronunciada. En este punto el theta optimizado por el descenso de gradiente es de [1.71835438] [3.99258451] [3.72493998] y el costo de theta optimizado 0.2034. Una mejora considerable con respecto al costo del theta inicial de 0.693."
   ]
  },
  {
   "cell_type": "markdown",
   "metadata": {},
   "source": [
    "## Referencias"
   ]
  },
  {
   "cell_type": "markdown",
   "metadata": {},
   "source": [
    "* Balsys, r (2019). Understanding Logistic Regression (2019). Disponible en: https://pylessons.com/Logistic-Regression-part1/\n",
    "* Descenso por gradiente (Gradient descent). Disponible en: https://turing.iimas.unam.mx/~ivanvladimir/posts/gradient_descent/\n",
    "* Feature Scaling for Machine Learning: Understanding the Difference Between Normalization vs. Standardization. Disponible en: https://www.analyticsvidhya.com/blog/2020/04/feature-scaling-machine-learning-normalization-standardization/\n",
    "* Rodríguez, D (2018). Implementación del método descenso del gradiente en Python. Disponible en: https://www.analyticslane.com/2018/12/21/implementacion-del-metodo-descenso-del-gradiente-en-python/#:~:text=El%20m%C3%A9todo%20del%20descenso%20del,en%20el%20conjunto%20de%20datos.\n",
    "* Gradient descent. Disponible en: https://ml-cheatsheet.readthedocs.io/en/latest/gradient_descent.html\n",
    "* Machine Learning Logistic Regression. Disponible en: https://towardsdatascience.com/andrew-ngs-machine-learning-course-in-python-logistic-regression-c0ae25509feb"
   ]
  }
 ],
 "metadata": {
  "kernelspec": {
   "display_name": "DG_env",
   "language": "python",
   "name": "dg_env"
  },
  "language_info": {
   "codemirror_mode": {
    "name": "ipython",
    "version": 3
   },
   "file_extension": ".py",
   "mimetype": "text/x-python",
   "name": "python",
   "nbconvert_exporter": "python",
   "pygments_lexer": "ipython3",
   "version": "3.8.5"
  }
 },
 "nbformat": 4,
 "nbformat_minor": 4
}
